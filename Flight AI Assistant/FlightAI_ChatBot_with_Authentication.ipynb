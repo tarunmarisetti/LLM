{
 "cells": [
  {
   "cell_type": "markdown",
   "id": "1bd1bab1",
   "metadata": {},
   "source": [
    "EASY GUIDES AI Assistant-with Authentication\n"
   ]
  },
  {
   "cell_type": "code",
   "execution_count": 3,
   "id": "291f1cb8",
   "metadata": {},
   "outputs": [],
   "source": [
    "import os\n",
    "import json\n",
    "from dotenv import load_dotenv\n",
    "from openai import OpenAI\n",
    "import gradio as gr"
   ]
  },
  {
   "cell_type": "code",
   "execution_count": 4,
   "id": "1dcb913a",
   "metadata": {},
   "outputs": [
    {
     "name": "stdout",
     "output_type": "stream",
     "text": [
      "OpenAI API Key exists and begins sk-proj-\n"
     ]
    }
   ],
   "source": [
    "# Initialization\n",
    "\n",
    "load_dotenv(override=True)\n",
    "\n",
    "openai_api_key = os.getenv('OPENAI_API_KEY')\n",
    "if openai_api_key:\n",
    "    print(f\"OpenAI API Key exists and begins {openai_api_key[:8]}\")\n",
    "else:\n",
    "    print(\"OpenAI API Key not set\")\n",
    "    \n",
    "MODEL = \"gpt-4.1-mini\"\n",
    "openai = OpenAI()\n",
    "\n",
    "# As an alternative, if you'd like to use Ollama instead of OpenAI\n",
    "# Check that Ollama is running for you locally (see week1/day2 exercise) then uncomment these next 2 lines\n",
    "# MODEL = \"llama3.2\"\n",
    "# openai = OpenAI(base_url='http://localhost:11434/v1', api_key='ollama')\n"
   ]
  },
  {
   "cell_type": "code",
   "execution_count": 5,
   "id": "88c78f8b",
   "metadata": {},
   "outputs": [],
   "source": [
    "system_message = \"\"\"\n",
    "You are a helpful assistant for an Airline called EASYGUIDE.\n",
    "Give short, courteous answers, no more than 1 sentence.\n",
    "Always be accurate. u can get the ticket prices based on what city user asked and before updating \n",
    "you need to authorize the user whether he/she has access to change the content\"\"\""
   ]
  },
  {
   "cell_type": "markdown",
   "id": "237f8229",
   "metadata": {},
   "source": [
    "The Below Json is the description of what each function does cause GPT will understand the functionality of a particular function better by using JSON"
   ]
  },
  {
   "cell_type": "code",
   "execution_count": 6,
   "id": "86603b68",
   "metadata": {},
   "outputs": [],
   "source": [
    "# describe our functions:\n",
    "\n",
    "price_function = {\n",
    "    \"name\": \"get_ticket_price\",\n",
    "    \"description\": \"Get the price of a return ticket to the destination city.\",\n",
    "    \"parameters\": {\n",
    "        \"type\": \"object\",\n",
    "        \"properties\": {\n",
    "            \"destination_city\": {\n",
    "                \"type\": \"string\",\n",
    "                \"description\": \"The city that the customer wants to travel to\",\n",
    "            },\n",
    "        },\n",
    "        \"required\": [\"destination_city\"],\n",
    "        \"additionalProperties\": False\n",
    "    }\n",
    "}\n",
    "\n",
    "update_price_function = {\n",
    "    \"name\": \"update_ticket_price\",\n",
    "    \"description\": \"update the price of a ticket if a record with the city exists else create a new record with the price and city\",\n",
    "    \"parameters\": {\n",
    "        \"type\": \"object\",\n",
    "        \"properties\": {\n",
    "            \"city\": {\n",
    "                \"type\": \"string\",\n",
    "                \"description\": \"The city that we need to add or update the ticket price\",\n",
    "            },\n",
    "            \"price\": {\n",
    "                \"type\": \"string\",\n",
    "                \"description\": \"The ticket price for the city\",\n",
    "            },\n",
    "        },\n",
    "        \"required\": [\"city\", \"price\"],\n",
    "        \"additionalProperties\": False\n",
    "    }\n",
    "}\n",
    "\n",
    "authentication_function = {\n",
    "    \"name\": \"authenticate_user\",\n",
    "    \"description\": \"\"\"this function is used to authenticate the user before updating the ticket price so in order to update he should have admin role,\n",
    "        this function will fetch the role of use by using his name and return true if the user has admin role or false\"\"\",\n",
    "    \"parameters\": {\n",
    "        \"type\": \"object\",\n",
    "        \"properties\": {\n",
    "            \"name\": {\n",
    "                \"type\": \"string\",\n",
    "                \"description\": \"name of the user\"\n",
    "            },\n",
    "        },\n",
    "        \"required\": [\"name\"],\n",
    "        \"additionalProperties\": False\n",
    "    }\n",
    "}\n",
    "\n"
   ]
  },
  {
   "cell_type": "markdown",
   "id": "5010ba35",
   "metadata": {},
   "source": [
    "ADD the above function description into the tools list"
   ]
  },
  {
   "cell_type": "code",
   "execution_count": 7,
   "id": "19ea07c8",
   "metadata": {},
   "outputs": [],
   "source": [
    "# And this is included in a list of tools:\n",
    "\n",
    "tools = [\n",
    "    {\n",
    "        \"type\": \"function\",\n",
    "        \"function\": price_function\n",
    "    },\n",
    "    {\n",
    "        \"type\": \"function\",\n",
    "        \"function\": update_price_function\n",
    "    },\n",
    "    {\n",
    "        \"type\": \"function\",\n",
    "        \"function\": authentication_function\n",
    "    }\n",
    "]"
   ]
  },
  {
   "cell_type": "markdown",
   "id": "e8a82ad3",
   "metadata": {},
   "source": [
    "## using sql as a tool\n",
    "\n",
    "we are going to fetch, update the price and authenticate the user by using sql DB"
   ]
  },
  {
   "cell_type": "code",
   "execution_count": 8,
   "id": "0942360a",
   "metadata": {},
   "outputs": [],
   "source": [
    "import sqlite3\n"
   ]
  },
  {
   "cell_type": "code",
   "execution_count": 9,
   "id": "9e0a0803",
   "metadata": {},
   "outputs": [],
   "source": [
    "DB = \"EasyGuides.db\"\n",
    "\n",
    "with sqlite3.connect(DB) as conn:\n",
    "    cursor = conn.cursor()\n",
    "    cursor.execute('CREATE TABLE IF NOT EXISTS prices (city TEXT PRIMARY KEY, price REAL)')\n",
    "    cursor.execute('CREATE TABLE IF NOT EXISTS roles (name TEXT PRIMARY KEY, role TEXT )')\n",
    "    conn.commit()"
   ]
  },
  {
   "cell_type": "code",
   "execution_count": 10,
   "id": "69376682",
   "metadata": {},
   "outputs": [],
   "source": [
    "def get_ticket_price(destination_city):\n",
    "    print(f\"DATABASE TOOL CALLED: Getting price for {destination_city}\", flush=True)\n",
    "    with sqlite3.connect(DB) as conn:\n",
    "        cursor = conn.cursor()\n",
    "        cursor.execute('SELECT price FROM prices WHERE city = ?', (destination_city.lower(),))\n",
    "        result = cursor.fetchone()\n",
    "        return f\"Ticket price to {destination_city} is ${result[0]}\" if result else \"No price data available for this city\""
   ]
  },
  {
   "cell_type": "markdown",
   "id": "1133a216",
   "metadata": {},
   "source": [
    "Adding the Ticket Prices Records into the prices Table"
   ]
  },
  {
   "cell_type": "code",
   "execution_count": 11,
   "id": "bf3af623",
   "metadata": {},
   "outputs": [],
   "source": [
    "def set_ticket_price(city, price):\n",
    "    with sqlite3.connect(DB) as conn:\n",
    "        cursor = conn.cursor()\n",
    "        cursor.execute('INSERT INTO prices (city, price) VALUES (?, ?) ON CONFLICT(city) DO UPDATE SET price = ?', (city.lower(), price, price))\n",
    "        conn.commit()"
   ]
  },
  {
   "cell_type": "code",
   "execution_count": 12,
   "id": "c5317bcc",
   "metadata": {},
   "outputs": [],
   "source": [
    "ticket_prices = {\"london\":799, \"paris\": 899, \"tokyo\": 1420, \"sydney\": 2999}\n",
    "for city, price in ticket_prices.items():\n",
    "    set_ticket_price(city, price)"
   ]
  },
  {
   "cell_type": "markdown",
   "id": "f57b47e4",
   "metadata": {},
   "source": [
    "Adding the user roles into roles table "
   ]
  },
  {
   "cell_type": "code",
   "execution_count": 13,
   "id": "fbf227c1",
   "metadata": {},
   "outputs": [],
   "source": [
    "def add_user_role(name, role):\n",
    "    with sqlite3.connect(DB) as conn:\n",
    "        cursor = conn.cursor()\n",
    "        cursor.execute('INSERT INTO roles (name,role) VALUES (?, ?) ON CONFLICT(name) DO UPDATE SET role = ?', (name, role,role))\n",
    "        conn.commit()"
   ]
  },
  {
   "cell_type": "code",
   "execution_count": 14,
   "id": "f2ed0620",
   "metadata": {},
   "outputs": [],
   "source": [
    "user_role_list = {\"tarun\":\"admin\", \"sai\": \"user\", \"kiran\": \"user\", \"jeff\":\"admin\"}\n",
    "for name, role in user_role_list.items():\n",
    "    add_user_role(name, role)"
   ]
  },
  {
   "cell_type": "markdown",
   "id": "0406ddec",
   "metadata": {},
   "source": [
    "Below function will Authenticate the user"
   ]
  },
  {
   "cell_type": "code",
   "execution_count": 15,
   "id": "172e6daa",
   "metadata": {},
   "outputs": [],
   "source": [
    "def authenticate_user(name):\n",
    "    with sqlite3.connect(DB) as conn:\n",
    "        cursor = conn.cursor()\n",
    "        cursor.execute('SELECT role FROM roles WHERE name = ?', (name,))\n",
    "        result=cursor.fetchone()\n",
    "        if not result:\n",
    "            print(f\"User '{name}' not found.\")\n",
    "            return \"no user found with the given name\"\n",
    "\n",
    "        role = result[0].lower()\n",
    "        print(f\"User '{name}' has role: {role}\")\n",
    "\n",
    "        if role == \"admin\":\n",
    "            return \"user has admin role\"\n",
    "        else:\n",
    "            return \"user is not admin\"\n"
   ]
  },
  {
   "cell_type": "markdown",
   "id": "cdb23f41",
   "metadata": {},
   "source": [
    "Function to Update the Ticket Price"
   ]
  },
  {
   "cell_type": "code",
   "execution_count": 16,
   "id": "c296805f",
   "metadata": {},
   "outputs": [],
   "source": [
    "def update_ticket_price(city, price):\n",
    "    with sqlite3.connect(DB) as conn:\n",
    "        cursor = conn.cursor()\n",
    "        cursor.execute(\n",
    "            'INSERT INTO prices (city, price) VALUES (?, ?) '\n",
    "            'ON CONFLICT(city) DO UPDATE SET price = ?',\n",
    "            (city.lower(), price, price)\n",
    "        )\n",
    "        conn.commit()\n",
    "        return f\"Ticket price to {city} is updated to {price}\""
   ]
  },
  {
   "cell_type": "code",
   "execution_count": 17,
   "id": "b4cad1dd",
   "metadata": {},
   "outputs": [],
   "source": [
    "def chat(message, history):\n",
    "    history = [{\"role\":h[\"role\"], \"content\":h[\"content\"]} for h in history]\n",
    "    messages = [{\"role\": \"system\", \"content\": system_message}] + history + [{\"role\": \"user\", \"content\": message}]\n",
    "    response = openai.chat.completions.create(model=MODEL, messages=messages, tools=tools)\n",
    "    print(response)\n",
    "\n",
    "    while response.choices[0].finish_reason==\"tool_calls\":\n",
    "        message = response.choices[0].message\n",
    "        responses = handle_tool_calls(message)\n",
    "        messages.append(message)\n",
    "        messages.extend(responses)\n",
    "        response = openai.chat.completions.create(model=MODEL, messages=messages, tools=tools)\n",
    "    \n",
    "    return response.choices[0].message.content"
   ]
  },
  {
   "cell_type": "code",
   "execution_count": 18,
   "id": "d2fb6289",
   "metadata": {},
   "outputs": [],
   "source": [
    "# Map function names to real implementations\n",
    "TOOL_FUNCTIONS = {\n",
    "    \"get_ticket_price\": get_ticket_price,\n",
    "    \"update_ticket_price\": update_ticket_price,\n",
    "    \"authenticate_user\": authenticate_user\n",
    "}\n",
    "\n",
    "def handle_tool_calls(message):\n",
    "    responses = []\n",
    "    for tool_call in message.tool_calls:\n",
    "        func_name = tool_call.function.name\n",
    "        print(func_name)\n",
    "        arguments = json.loads(tool_call.function.arguments)\n",
    "\n",
    "        # Lookup the function dynamically\n",
    "        func = TOOL_FUNCTIONS.get(func_name)\n",
    "        if not func:\n",
    "            responses.append({\n",
    "                \"role\": \"tool\",\n",
    "                \"content\": f\"Unknown tool function: {func_name}\",\n",
    "                \"tool_call_id\": tool_call.id,\n",
    "            })\n",
    "            continue\n",
    "\n",
    "        # Match argument names automatically using unpacking (**)\n",
    "        try:\n",
    "            result = func(**arguments)\n",
    "        except Exception as e:\n",
    "            result = f\"Error calling {func_name}: {e}\"\n",
    "        print(\"result\",result)\n",
    "        responses.append({\n",
    "            \"role\": \"tool\",\n",
    "            \"content\": result,\n",
    "            \"tool_call_id\": tool_call.id,\n",
    "        })\n",
    "\n",
    "    return responses\n"
   ]
  },
  {
   "cell_type": "code",
   "execution_count": 19,
   "id": "4124c4ba",
   "metadata": {},
   "outputs": [
    {
     "name": "stdout",
     "output_type": "stream",
     "text": [
      "* Running on local URL:  http://127.0.0.1:7911\n",
      "* To create a public link, set `share=True` in `launch()`.\n"
     ]
    },
    {
     "data": {
      "text/html": [
       "<div><iframe src=\"http://127.0.0.1:7911/\" width=\"100%\" height=\"500\" allow=\"autoplay; camera; microphone; clipboard-read; clipboard-write;\" frameborder=\"0\" allowfullscreen></iframe></div>"
      ],
      "text/plain": [
       "<IPython.core.display.HTML object>"
      ]
     },
     "metadata": {},
     "output_type": "display_data"
    },
    {
     "data": {
      "text/plain": []
     },
     "execution_count": 19,
     "metadata": {},
     "output_type": "execute_result"
    },
    {
     "name": "stdout",
     "output_type": "stream",
     "text": [
      "ChatCompletion(id='chatcmpl-CV3TDHyZDbE4JpxFO6qLSub4ncMIM', choices=[Choice(finish_reason='stop', index=0, logprobs=None, message=ChatCompletionMessage(content='Hello! How can I assist you with EASYGUIDE Airlines today?', refusal=None, role='assistant', annotations=[], audio=None, function_call=None, tool_calls=None))], created=1761517543, model='gpt-4.1-mini-2025-04-14', object='chat.completion', service_tier='default', system_fingerprint='fp_4c2851f862', usage=CompletionUsage(completion_tokens=15, prompt_tokens=258, total_tokens=273, completion_tokens_details=CompletionTokensDetails(accepted_prediction_tokens=0, audio_tokens=0, reasoning_tokens=0, rejected_prediction_tokens=0), prompt_tokens_details=PromptTokensDetails(audio_tokens=0, cached_tokens=0)))\n",
      "ChatCompletion(id='chatcmpl-CV3TPXTQk2RwgvFxps4390qTm0lSo', choices=[Choice(finish_reason='tool_calls', index=0, logprobs=None, message=ChatCompletionMessage(content=None, refusal=None, role='assistant', annotations=[], audio=None, function_call=None, tool_calls=[ChatCompletionMessageFunctionToolCall(id='call_f9WiPBOLpPcDP2Mi3vLs27m6', function=Function(arguments='{\"destination_city\":\"London\"}', name='get_ticket_price'), type='function')]))], created=1761517555, model='gpt-4.1-mini-2025-04-14', object='chat.completion', service_tier='default', system_fingerprint='fp_4c2851f862', usage=CompletionUsage(completion_tokens=16, prompt_tokens=288, total_tokens=304, completion_tokens_details=CompletionTokensDetails(accepted_prediction_tokens=0, audio_tokens=0, reasoning_tokens=0, rejected_prediction_tokens=0), prompt_tokens_details=PromptTokensDetails(audio_tokens=0, cached_tokens=0)))\n",
      "get_ticket_price\n",
      "DATABASE TOOL CALLED: Getting price for London\n",
      "result Ticket price to London is $799.0\n",
      "ChatCompletion(id='chatcmpl-CV3TWcODsE5dBPkwntqLRUP8vS1Yf', choices=[Choice(finish_reason='stop', index=0, logprobs=None, message=ChatCompletionMessage(content='May I know your name to verify if you have the authorization to update the ticket prices?', refusal=None, role='assistant', annotations=[], audio=None, function_call=None, tool_calls=None))], created=1761517562, model='gpt-4.1-mini-2025-04-14', object='chat.completion', service_tier='default', system_fingerprint='fp_4c2851f862', usage=CompletionUsage(completion_tokens=19, prompt_tokens=310, total_tokens=329, completion_tokens_details=CompletionTokensDetails(accepted_prediction_tokens=0, audio_tokens=0, reasoning_tokens=0, rejected_prediction_tokens=0), prompt_tokens_details=PromptTokensDetails(audio_tokens=0, cached_tokens=0)))\n",
      "ChatCompletion(id='chatcmpl-CV3Tcynjj5yl5DVlhXDyMjWxQFYPl', choices=[Choice(finish_reason='tool_calls', index=0, logprobs=None, message=ChatCompletionMessage(content=None, refusal=None, role='assistant', annotations=[], audio=None, function_call=None, tool_calls=[ChatCompletionMessageFunctionToolCall(id='call_ThxEHxYoF4sVELrMVWShhB5y', function=Function(arguments='{\"name\":\"sai\"}', name='authenticate_user'), type='function')]))], created=1761517568, model='gpt-4.1-mini-2025-04-14', object='chat.completion', service_tier='default', system_fingerprint='fp_4c2851f862', usage=CompletionUsage(completion_tokens=15, prompt_tokens=338, total_tokens=353, completion_tokens_details=CompletionTokensDetails(accepted_prediction_tokens=0, audio_tokens=0, reasoning_tokens=0, rejected_prediction_tokens=0), prompt_tokens_details=PromptTokensDetails(audio_tokens=0, cached_tokens=0)))\n",
      "authenticate_user\n",
      "User 'sai' has role: user\n",
      "result user is not admin\n",
      "ChatCompletion(id='chatcmpl-CV3Tksq2gKcVX5f4ICYf4lFKZgJgL', choices=[Choice(finish_reason='stop', index=0, logprobs=None, message=ChatCompletionMessage(content='I need to verify your authorization before making any updates; please provide your full name for verification.', refusal=None, role='assistant', annotations=[], audio=None, function_call=None, tool_calls=None))], created=1761517576, model='gpt-4.1-mini-2025-04-14', object='chat.completion', service_tier='default', system_fingerprint='fp_4c2851f862', usage=CompletionUsage(completion_tokens=20, prompt_tokens=362, total_tokens=382, completion_tokens_details=CompletionTokensDetails(accepted_prediction_tokens=0, audio_tokens=0, reasoning_tokens=0, rejected_prediction_tokens=0), prompt_tokens_details=PromptTokensDetails(audio_tokens=0, cached_tokens=0)))\n",
      "ChatCompletion(id='chatcmpl-CV3TzKjH4XwcA8ibXhg3X1mHry8rG', choices=[Choice(finish_reason='stop', index=0, logprobs=None, message=ChatCompletionMessage(content='Yes, authorization is mandatory to ensure the security and accuracy of ticket price updates.', refusal=None, role='assistant', annotations=[], audio=None, function_call=None, tool_calls=None))], created=1761517591, model='gpt-4.1-mini-2025-04-14', object='chat.completion', service_tier='default', system_fingerprint='fp_4c2851f862', usage=CompletionUsage(completion_tokens=17, prompt_tokens=392, total_tokens=409, completion_tokens_details=CompletionTokensDetails(accepted_prediction_tokens=0, audio_tokens=0, reasoning_tokens=0, rejected_prediction_tokens=0), prompt_tokens_details=PromptTokensDetails(audio_tokens=0, cached_tokens=0)))\n",
      "ChatCompletion(id='chatcmpl-CV3U7pkDfEd9GqzQYqhuGOEBu7IpT', choices=[Choice(finish_reason='tool_calls', index=0, logprobs=None, message=ChatCompletionMessage(content=None, refusal=None, role='assistant', annotations=[], audio=None, function_call=None, tool_calls=[ChatCompletionMessageFunctionToolCall(id='call_pCjcz2AYvd5diDkt2CBbzqF4', function=Function(arguments='{\"name\":\"tarun\"}', name='authenticate_user'), type='function')]))], created=1761517599, model='gpt-4.1-mini-2025-04-14', object='chat.completion', service_tier='default', system_fingerprint='fp_4c2851f862', usage=CompletionUsage(completion_tokens=15, prompt_tokens=418, total_tokens=433, completion_tokens_details=CompletionTokensDetails(accepted_prediction_tokens=0, audio_tokens=0, reasoning_tokens=0, rejected_prediction_tokens=0), prompt_tokens_details=PromptTokensDetails(audio_tokens=0, cached_tokens=0)))\n",
      "authenticate_user\n",
      "User 'tarun' has role: admin\n",
      "result user has admin role\n",
      "update_ticket_price\n",
      "result Ticket price to london is updated to 1999\n"
     ]
    }
   ],
   "source": [
    "gr.ChatInterface(fn=chat, type=\"messages\").launch()"
   ]
  }
 ],
 "metadata": {
  "kernelspec": {
   "display_name": ".venv",
   "language": "python",
   "name": "python3"
  },
  "language_info": {
   "codemirror_mode": {
    "name": "ipython",
    "version": 3
   },
   "file_extension": ".py",
   "mimetype": "text/x-python",
   "name": "python",
   "nbconvert_exporter": "python",
   "pygments_lexer": "ipython3",
   "version": "3.12.12"
  }
 },
 "nbformat": 4,
 "nbformat_minor": 5
}
